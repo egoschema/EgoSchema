{
 "cells": [
  {
   "cell_type": "code",
   "execution_count": 13,
   "id": "b2c3a745-cc95-41ea-94c4-9558cdfa1332",
   "metadata": {},
   "outputs": [],
   "source": [
    "import pandas as pd\n",
    "import os\n",
    "import numpy as np "
   ]
  },
  {
   "cell_type": "code",
   "execution_count": 27,
   "id": "5b04dd49-25e0-4637-9d65-70787fa309a0",
   "metadata": {
    "tags": []
   },
   "outputs": [],
   "source": [
    "frames = 10\n",
    "EGOSCHEMA_FOLDER = \"../../EgoSchema\"\n",
    "\n",
    "if not os.path.exists(f\"features\"):\n",
    "    print(\"making folder\")\n",
    "    os.mkdir(f\"features\")"
   ]
  },
  {
   "cell_type": "code",
   "execution_count": 28,
   "id": "3c6acfaa-19b5-4569-9dfa-f44391dc2dfb",
   "metadata": {},
   "outputs": [],
   "source": [
    "total = 0\n",
    "VID_PATH = f\"{EGOSCHEMA_FOLDER}/videos\"\n",
    "\n",
    "to_add = []\n",
    "for q_uid in os.listdir(f\"{VID_PATH}\"):\n",
    "    if not os.path.exists(f\"{VID_PATH}/{q_uid[:q_uid.rfind('.')]}.npy\"):\n",
    "        to_add.append(q_uid[:q_uid.rfind('.')])\n",
    "        total += 1"
   ]
  },
  {
   "cell_type": "code",
   "execution_count": 29,
   "id": "1ee7127a-1d9e-4cba-80e1-ebd766d82c32",
   "metadata": {},
   "outputs": [],
   "source": [
    "import torch\n",
    "for q_uid in os.listdir(f\"./features/\"):\n",
    "    if torch.from_numpy(np.load(f\"./features/{q_uid}\").astype(\"float32\")).shape[0] != frames:\n",
    "        to_add.append(q_uid[:q_uid.rfind('.')])\n",
    "        print(q_uid)"
   ]
  },
  {
   "cell_type": "code",
   "execution_count": 30,
   "id": "a5cd2456-72c5-40c8-a4c9-aa995b5e3970",
   "metadata": {},
   "outputs": [],
   "source": [
    "table = []\n",
    "columns = [\"video_path\", \"feature_path\"]\n",
    "\n",
    "\n",
    "for q_uid_mp4 in os.listdir(f\"{VID_PATH}\"):\n",
    "    q_uid = q_uid_mp4[:q_uid_mp4.rfind(\".\")]\n",
    "    if \"ipynb\" in q_uid_mp4:\n",
    "        continue\n",
    "        \n",
    "    if q_uid not in to_add:\n",
    "        continue\n",
    "    row = [f\"{VID_PATH}/\"+ q_uid_mp4, f\"./features/\" + q_uid]\n",
    "    table.append(row)"
   ]
  },
  {
   "cell_type": "code",
   "execution_count": 31,
   "id": "6b654e56-cb5e-49ab-984c-816d8cf1a5f8",
   "metadata": {},
   "outputs": [],
   "source": [
    "df = pd.DataFrame(table,columns=columns)\n",
    "df.to_csv(\"test_additional_paths.csv\", index=False)"
   ]
  },
  {
   "cell_type": "code",
   "execution_count": 32,
   "id": "c9638396-1d35-477b-b4fe-bd8100ca5a58",
   "metadata": {},
   "outputs": [],
   "source": [
    "import torch as th\n",
    "import math\n",
    "import numpy as np\n",
    "import torch.nn.functional as F\n",
    "from tqdm import tqdm\n",
    "import argparse\n",
    "from extract.video_loader import VideoLoader\n",
    "from torch.utils.data import DataLoader\n",
    "from extract.preprocessing import Preprocessing\n",
    "from extract.random_sequence_shuffler import RandomSequenceSampler\n",
    "from args import MODEL_DIR\n",
    "import clip"
   ]
  },
  {
   "cell_type": "code",
   "execution_count": 33,
   "id": "9c368205-bdd7-4c4a-b614-4ed1ae67a976",
   "metadata": {
    "tags": []
   },
   "outputs": [],
   "source": [
    "dataset = VideoLoader(\n",
    "    \"test_additional_paths.csv\",\n",
    "    framerate = frames / 180,  # one feature per second max\n",
    "    size=224,\n",
    "    centercrop=True,\n",
    ")"
   ]
  },
  {
   "cell_type": "code",
   "execution_count": 34,
   "id": "750aa3af-c7d9-4b56-955b-5c1a26762e16",
   "metadata": {
    "tags": []
   },
   "outputs": [],
   "source": [
    "n_dataset = len(dataset)\n",
    "sampler = RandomSequenceSampler(n_dataset, frames)\n",
    "loader = DataLoader(\n",
    "    dataset,\n",
    "    batch_size=1,\n",
    "    shuffle=False,\n",
    "    num_workers=10,\n",
    "    sampler=sampler if n_dataset > 10 else None,\n",
    ")"
   ]
  },
  {
   "cell_type": "code",
   "execution_count": 35,
   "id": "8045bfe4-736b-4005-844e-059c19ef3494",
   "metadata": {
    "tags": []
   },
   "outputs": [],
   "source": [
    "preprocess = Preprocessing()\n",
    "model, _ = clip.load(\"ViT-L/14\", download_root=MODEL_DIR)\n",
    "model.eval()\n",
    "model = model.cuda()"
   ]
  },
  {
   "cell_type": "code",
   "execution_count": 36,
   "id": "c0fafea1-9bff-4484-9adf-205373583f76",
   "metadata": {
    "tags": []
   },
   "outputs": [
    {
     "name": "stdout",
     "output_type": "stream",
     "text": [
      "Decoding video: ../../EgoSchema/videos/0354b658-b59e-476c-ac9d-739ee656bed0.mp4Decoding video: ../../EgoSchema/videos/001934bb-81bd-4cd8-a574-0472ef3f6678.mp4Decoding video: ../../EgoSchema/videos/01b0d445-64a5-4737-ad26-8f0df5c54af9.mp4Decoding video: ../../EgoSchema/videos/01cd83ef-06c0-43b0-a22f-fba50dc6150d.mp4Decoding video: ../../EgoSchema/videos/0233d5b0-07a6-4693-adf9-158a1d7bdafa.mp4\n",
      "Decoding video: ../../EgoSchema/videos/01e9637c-d3cd-4679-baa1-5c3846c28b39.mp4Decoding video: ../../EgoSchema/videos/02ef4ec6-451b-4f36-937a-73d653ba2a7a.mp4\n",
      "\n",
      "Decoding video: ../../EgoSchema/videos/0096d5bd-dafe-48a5-a04d-9efe65d3d5b8.mp4\n",
      "Decoding video: ../../EgoSchema/videos/028874ba-a149-4499-825f-56d40a5ec11d.mp4Decoding video: ../../EgoSchema/videos/00ea715e-2816-460e-b503-97b8ec760bf2.mp4\n",
      "\n",
      "\n",
      "\n",
      "\n",
      "\n",
      "Decoding video: ../../EgoSchema/videos/005651d6-f710-4909-b76d-acf7306fb72a.mp4\n",
      "Decoding video: ../../EgoSchema/videos/024420d4-85a1-4148-bf1e-b111fcd24d73.mp4\n",
      "Decoding video: ../../EgoSchema/videos/0089a0d6-fe3f-4db7-8c89-19e9e08e5e7c.mp4\n",
      "Decoding video: ../../EgoSchema/videos/00fa650b-df4d-46a2-b19c-cd3e3a3d7f48.mp4\n",
      "Decoding video: ../../EgoSchema/videos/001d2d1b-d2f9-4c39-810e-6e2087ff9d5a.mp4\n",
      "Decoding video: ../../EgoSchema/videos/027f192c-b186-456d-8940-67dea5a72c91.mp4\n",
      "Decoding video: ../../EgoSchema/videos/00594c2d-1c89-47ec-aa3f-1c560cab3d26.mp4\n",
      "Decoding video: ../../EgoSchema/videos/010fb193-bc03-44a2-97fd-261463d06d60.mp4\n",
      "Decoding video: ../../EgoSchema/videos/02580ac5-bfbf-4b54-9a72-56541bbcb27a.mp4\n",
      "Decoding video: ../../EgoSchema/videos/02570b75-5a0a-4ced-9f85-54bfd51ddd78.mp4\n",
      "Computing features of video 1/20: ../../EgoSchema/videos/01b0d445-64a5-4737-ad26-8f0df5c54af9.mp4\n"
     ]
    },
    {
     "name": "stderr",
     "output_type": "stream",
     "text": [
      "100%|██████████| 1/1 [00:00<00:00,  6.36it/s]\n"
     ]
    },
    {
     "name": "stdout",
     "output_type": "stream",
     "text": [
      "Computing features of video 2/20: ../../EgoSchema/videos/0354b658-b59e-476c-ac9d-739ee656bed0.mp4\n"
     ]
    },
    {
     "name": "stderr",
     "output_type": "stream",
     "text": [
      "100%|██████████| 1/1 [00:00<00:00, 10.43it/s]\n"
     ]
    },
    {
     "name": "stdout",
     "output_type": "stream",
     "text": [
      "Computing features of video 3/20: ../../EgoSchema/videos/01e9637c-d3cd-4679-baa1-5c3846c28b39.mp4\n"
     ]
    },
    {
     "name": "stderr",
     "output_type": "stream",
     "text": [
      "100%|██████████| 1/1 [00:00<00:00, 11.32it/s]\n"
     ]
    },
    {
     "name": "stdout",
     "output_type": "stream",
     "text": [
      "Computing features of video 4/20: ../../EgoSchema/videos/02ef4ec6-451b-4f36-937a-73d653ba2a7a.mp4\n"
     ]
    },
    {
     "name": "stderr",
     "output_type": "stream",
     "text": [
      "100%|██████████| 1/1 [00:00<00:00, 10.30it/s]\n"
     ]
    },
    {
     "name": "stdout",
     "output_type": "stream",
     "text": [
      "Computing features of video 5/20: ../../EgoSchema/videos/001934bb-81bd-4cd8-a574-0472ef3f6678.mp4\n"
     ]
    },
    {
     "name": "stderr",
     "output_type": "stream",
     "text": [
      "100%|██████████| 1/1 [00:00<00:00,  9.54it/s]\n"
     ]
    },
    {
     "name": "stdout",
     "output_type": "stream",
     "text": [
      "Computing features of video 6/20: ../../EgoSchema/videos/00ea715e-2816-460e-b503-97b8ec760bf2.mp4\n"
     ]
    },
    {
     "name": "stderr",
     "output_type": "stream",
     "text": [
      "100%|██████████| 1/1 [00:00<00:00, 11.40it/s]\n"
     ]
    },
    {
     "name": "stdout",
     "output_type": "stream",
     "text": [
      "Computing features of video 7/20: ../../EgoSchema/videos/0233d5b0-07a6-4693-adf9-158a1d7bdafa.mp4\n"
     ]
    },
    {
     "name": "stderr",
     "output_type": "stream",
     "text": [
      "100%|██████████| 1/1 [00:00<00:00, 11.78it/s]\n"
     ]
    },
    {
     "name": "stdout",
     "output_type": "stream",
     "text": [
      "Computing features of video 8/20: ../../EgoSchema/videos/01cd83ef-06c0-43b0-a22f-fba50dc6150d.mp4\n"
     ]
    },
    {
     "name": "stderr",
     "output_type": "stream",
     "text": [
      "100%|██████████| 1/1 [00:00<00:00, 11.47it/s]\n"
     ]
    },
    {
     "name": "stdout",
     "output_type": "stream",
     "text": [
      "Computing features of video 9/20: ../../EgoSchema/videos/028874ba-a149-4499-825f-56d40a5ec11d.mp4\n"
     ]
    },
    {
     "name": "stderr",
     "output_type": "stream",
     "text": [
      "100%|██████████| 1/1 [00:00<00:00, 11.71it/s]\n"
     ]
    },
    {
     "name": "stdout",
     "output_type": "stream",
     "text": [
      "Computing features of video 10/20: ../../EgoSchema/videos/0096d5bd-dafe-48a5-a04d-9efe65d3d5b8.mp4\n"
     ]
    },
    {
     "name": "stderr",
     "output_type": "stream",
     "text": [
      "100%|██████████| 1/1 [00:00<00:00, 11.94it/s]\n"
     ]
    },
    {
     "name": "stdout",
     "output_type": "stream",
     "text": [
      "Computing features of video 11/20: ../../EgoSchema/videos/02570b75-5a0a-4ced-9f85-54bfd51ddd78.mp4\n"
     ]
    },
    {
     "name": "stderr",
     "output_type": "stream",
     "text": [
      "100%|██████████| 1/1 [00:00<00:00, 14.27it/s]\n"
     ]
    },
    {
     "name": "stdout",
     "output_type": "stream",
     "text": [
      "Computing features of video 12/20: ../../EgoSchema/videos/02580ac5-bfbf-4b54-9a72-56541bbcb27a.mp4\n"
     ]
    },
    {
     "name": "stderr",
     "output_type": "stream",
     "text": [
      "100%|██████████| 1/1 [00:00<00:00, 13.83it/s]\n"
     ]
    },
    {
     "name": "stdout",
     "output_type": "stream",
     "text": [
      "Computing features of video 13/20: ../../EgoSchema/videos/00594c2d-1c89-47ec-aa3f-1c560cab3d26.mp4\n"
     ]
    },
    {
     "name": "stderr",
     "output_type": "stream",
     "text": [
      "100%|██████████| 1/1 [00:00<00:00, 13.80it/s]\n"
     ]
    },
    {
     "name": "stdout",
     "output_type": "stream",
     "text": [
      "Computing features of video 14/20: ../../EgoSchema/videos/010fb193-bc03-44a2-97fd-261463d06d60.mp4\n"
     ]
    },
    {
     "name": "stderr",
     "output_type": "stream",
     "text": [
      "100%|██████████| 1/1 [00:00<00:00, 13.80it/s]\n"
     ]
    },
    {
     "name": "stdout",
     "output_type": "stream",
     "text": [
      "Computing features of video 15/20: ../../EgoSchema/videos/005651d6-f710-4909-b76d-acf7306fb72a.mp4\n"
     ]
    },
    {
     "name": "stderr",
     "output_type": "stream",
     "text": [
      "100%|██████████| 1/1 [00:00<00:00, 14.09it/s]\n"
     ]
    },
    {
     "name": "stdout",
     "output_type": "stream",
     "text": [
      "Computing features of video 16/20: ../../EgoSchema/videos/00fa650b-df4d-46a2-b19c-cd3e3a3d7f48.mp4\n"
     ]
    },
    {
     "name": "stderr",
     "output_type": "stream",
     "text": [
      "100%|██████████| 1/1 [00:00<00:00, 14.26it/s]\n"
     ]
    },
    {
     "name": "stdout",
     "output_type": "stream",
     "text": [
      "Computing features of video 17/20: ../../EgoSchema/videos/027f192c-b186-456d-8940-67dea5a72c91.mp4\n"
     ]
    },
    {
     "name": "stderr",
     "output_type": "stream",
     "text": [
      "100%|██████████| 1/1 [00:00<00:00, 14.02it/s]\n"
     ]
    },
    {
     "name": "stdout",
     "output_type": "stream",
     "text": [
      "Computing features of video 18/20: ../../EgoSchema/videos/024420d4-85a1-4148-bf1e-b111fcd24d73.mp4\n"
     ]
    },
    {
     "name": "stderr",
     "output_type": "stream",
     "text": [
      "100%|██████████| 1/1 [00:00<00:00, 14.05it/s]\n"
     ]
    },
    {
     "name": "stdout",
     "output_type": "stream",
     "text": [
      "Computing features of video 19/20: ../../EgoSchema/videos/0089a0d6-fe3f-4db7-8c89-19e9e08e5e7c.mp4\n"
     ]
    },
    {
     "name": "stderr",
     "output_type": "stream",
     "text": [
      "100%|██████████| 1/1 [00:00<00:00, 14.13it/s]\n"
     ]
    },
    {
     "name": "stdout",
     "output_type": "stream",
     "text": [
      "Computing features of video 20/20: ../../EgoSchema/videos/001d2d1b-d2f9-4c39-810e-6e2087ff9d5a.mp4\n"
     ]
    },
    {
     "name": "stderr",
     "output_type": "stream",
     "text": [
      "100%|██████████| 1/1 [00:00<00:00, 13.77it/s]\n"
     ]
    }
   ],
   "source": [
    "with th.no_grad():\n",
    "    for k, data in enumerate(loader):\n",
    "        input_file = data[\"input\"][0]\n",
    "        output_file = data[\"output\"][0]\n",
    "        if len(data[\"video\"].shape) > 3:\n",
    "            print(\n",
    "                \"Computing features of video {}/{}: {}\".format(\n",
    "                    k + 1, n_dataset, input_file\n",
    "                )\n",
    "            )\n",
    "            video = data[\"video\"].squeeze()\n",
    "            if len(video.shape) == 4:\n",
    "                video = preprocess(video)\n",
    "                n_chunk = len(video)\n",
    "                features = th.cuda.FloatTensor(n_chunk, 768).fill_(0)\n",
    "                n_iter = int(math.ceil(n_chunk / float(128)))\n",
    "                for i in tqdm(range(n_iter)):\n",
    "                    min_ind = i * 128\n",
    "                    max_ind = (i + 1) * 128\n",
    "                    video_batch = video[min_ind:max_ind].cuda()\n",
    "                    batch_features = model.encode_image(video_batch)\n",
    "                    if 0:\n",
    "                        batch_features = F.normalize(batch_features, dim=1)\n",
    "                    features[min_ind:max_ind] = batch_features\n",
    "                features = features.cpu().numpy()\n",
    "                if 1:\n",
    "                    features = features.astype(\"float16\")\n",
    "                np.save(output_file, features)\n",
    "        else:\n",
    "            print(\"Video {} already processed.\".format(input_file))"
   ]
  },
  {
   "cell_type": "code",
   "execution_count": null,
   "id": "f7a98d16-305b-4ca1-a807-b9ba0b7b0467",
   "metadata": {},
   "outputs": [],
   "source": []
  }
 ],
 "metadata": {
  "kernelspec": {
   "display_name": "Python 3 (ipykernel)",
   "language": "python",
   "name": "python3"
  },
  "language_info": {
   "codemirror_mode": {
    "name": "ipython",
    "version": 3
   },
   "file_extension": ".py",
   "mimetype": "text/x-python",
   "name": "python",
   "nbconvert_exporter": "python",
   "pygments_lexer": "ipython3",
   "version": "3.10.11"
  }
 },
 "nbformat": 4,
 "nbformat_minor": 5
}
