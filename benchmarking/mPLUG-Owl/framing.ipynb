{
 "cells": [
  {
   "cell_type": "code",
   "execution_count": 1,
   "id": "650fbe9f-a166-45f8-814e-43e54f8bd482",
   "metadata": {},
   "outputs": [],
   "source": [
    "import pandas as pd\n",
    "import json\n",
    "import time\n",
    "import numpy as np\n",
    "import random\n",
    "import os\n",
    "from tqdm import tqdm\n",
    "import cv2 \n",
    "\n",
    "import matplotlib.pyplot as plt\n",
    "\n",
    "os.environ[\"IMAGEIO_FFMPEG_EXE\"] = \"/old_home_that_will_be_deleted_at_some_point/raiymbek/ffmpeg-git-20230313-amd64-static/ffmpeg\"\n",
    "\n",
    "from moviepy.editor import *\n",
    "from moviepy.video.io.ffmpeg_tools import ffmpeg_extract_subclip, ffmpeg_resize"
   ]
  },
  {
   "cell_type": "code",
   "execution_count": 2,
   "id": "ca4ce0ba-e4e5-4336-a590-9fcdc80f44b1",
   "metadata": {},
   "outputs": [],
   "source": [
    "EGOSCHEMA_FOLDER = \"../../../\"\n",
    "VID_FOLDER = \"/shared/raiymbek/good_clips_git\"\n",
    "frames = 10\n",
    "processes = 10"
   ]
  },
  {
   "cell_type": "code",
   "execution_count": 3,
   "id": "63105116-478a-47ac-8578-2c822def0e6f",
   "metadata": {},
   "outputs": [],
   "source": [
    "questions_f = open(f\"{EGOSCHEMA_FOLDER}/questions.json\")\n",
    "questions = json.load(questions_f)"
   ]
  },
  {
   "cell_type": "code",
   "execution_count": 4,
   "id": "b87187ed-33d4-43c7-8d67-296f7494c329",
   "metadata": {},
   "outputs": [],
   "source": [
    "vid_dir = VID_FOLDER\n",
    "frames_dir = f\"frames_{frames}\"\n",
    "if not os.path.exists(frames_dir):\n",
    "    os.mkdir(frames_dir)\n",
    "extracted_vids = [vid for vid in os.listdir(frames_dir) if \"ipynb\" not in vid and len([frame for frame in os.listdir(f\"{frames_dir}/{vid}\") if \"ipynb\" not in frame]) == 10]\n",
    "all_vids = [vid[:vid.find(\".\")] for vid in os.listdir(vid_dir) if \"ipynb\" not in vid]"
   ]
  },
  {
   "cell_type": "code",
   "execution_count": 5,
   "id": "5681b895-1a9a-453f-bc4a-6a1756f319d9",
   "metadata": {},
   "outputs": [
    {
     "name": "stdout",
     "output_type": "stream",
     "text": [
      "Done: 100.0% Time left: 0.0 hourst: 0.00021959611985290314 hours\r"
     ]
    }
   ],
   "source": [
    "import multiprocessing\n",
    "from multiprocessing import Queue as multi_queue\n",
    "import time\n",
    "\n",
    "def task(the_queue):\n",
    "    while True:\n",
    "        if the_queue.empty():\n",
    "            break\n",
    "            \n",
    "        vid_name = the_queue.get()\n",
    "        vid_path = f\"{vid_dir}/{vid_name}.mp4\"\n",
    "        is_it_done = True\n",
    "        if vid_name in extracted_vids:\n",
    "            continue\n",
    "        vid_folder = f\"{frames_dir}/{vid_name}\"        \n",
    "        if not os.path.exists(vid_folder):\n",
    "            os.mkdir(vid_folder)\n",
    "        uploaded_frames = os.listdir(vid_folder)\n",
    "        for i in range(frames):\n",
    "            if f\"{i}.jpg\" not in uploaded_frames:\n",
    "                is_it_done = False\n",
    "        \n",
    "        if is_it_done:\n",
    "            continue\n",
    "\n",
    "        try:\n",
    "            video = VideoFileClip(vid_path)\n",
    "        except:\n",
    "            continue\n",
    "        vid_frames = [f for f in video.iter_frames()]\n",
    "        frames_sec = np.linspace(0, len(vid_frames)-1, num=frames)\n",
    "        \n",
    "        for f_i in range(len(frames_sec)):\n",
    "            f = frames_sec[f_i]\n",
    "            frame = vid_frames[int(f)]\n",
    "            frame = cv2.cvtColor(frame, cv2.COLOR_BGR2RGB)\n",
    "            cv2.imwrite(f\"{vid_folder}/image_{f_i+1}.jpg\", frame)\n",
    "\n",
    "def progress_task(initially_done, the_queue, to_do):\n",
    "    global done_trigger\n",
    "    print(\"Done: -1%. Time left: -1 seconds\", flush=True, end='\\r')\n",
    "            \n",
    "    start = time.time()\n",
    "    while not the_queue.empty():\n",
    "        time.sleep(1)\n",
    "        done = to_do - the_queue.qsize()\n",
    "            \n",
    "        speed = done / (time.time() - start)\n",
    "        rest = to_do - done\n",
    "            \n",
    "        if speed == 0:\n",
    "            time_left = -1\n",
    "        else:\n",
    "            time_left = rest / speed\n",
    "        \n",
    "        print(f\"Done: {100 * (initially_done + done) / (initially_done+to_do)}% Time left: {time_left / 3600} hours\", end='\\r', flush = True)\n",
    "\n",
    "the_queue = multi_queue()\n",
    "for video_name in all_vids:\n",
    "    if video_name not in extracted_vids:\n",
    "        the_queue.put(video_name)\n",
    "        \n",
    "initially_done = len(extracted_vids)\n",
    "to_do = len(all_vids) - initially_done\n",
    "progress_process = multiprocessing.Process(target=progress_task, args=(initially_done, the_queue, to_do))\n",
    "\n",
    "procceses = []\n",
    "for i in range(processes):\n",
    "    p1 = multiprocessing.Process(target=task, args=(the_queue,))\n",
    "    procceses.append(p1)\n",
    "    \n",
    "progress_process.start()\n",
    "for p in procceses:\n",
    "    p.start()\n",
    "    \n",
    "for p in procceses:\n",
    "    p.join()\n",
    "done_trigger = True\n",
    "progress_process.join()"
   ]
  },
  {
   "cell_type": "code",
   "execution_count": null,
   "id": "78e9713e-6b1e-4815-97f8-8eb65afb3e38",
   "metadata": {},
   "outputs": [],
   "source": []
  }
 ],
 "metadata": {
  "kernelspec": {
   "display_name": "Python 3 (ipykernel)",
   "language": "python",
   "name": "python3"
  },
  "language_info": {
   "codemirror_mode": {
    "name": "ipython",
    "version": 3
   },
   "file_extension": ".py",
   "mimetype": "text/x-python",
   "name": "python",
   "nbconvert_exporter": "python",
   "pygments_lexer": "ipython3",
   "version": "3.10.4"
  }
 },
 "nbformat": 4,
 "nbformat_minor": 5
}
