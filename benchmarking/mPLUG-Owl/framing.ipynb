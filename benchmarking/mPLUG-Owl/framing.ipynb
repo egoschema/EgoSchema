{
 "cells": [
  {
   "cell_type": "code",
   "execution_count": 2,
   "id": "650fbe9f-a166-45f8-814e-43e54f8bd482",
   "metadata": {},
   "outputs": [],
   "source": [
    "import pandas as pd\n",
    "import json\n",
    "import time\n",
    "import numpy as np\n",
    "import random\n",
    "import os\n",
    "from tqdm import tqdm\n",
    "#import cv2 \n",
    "\n",
    "import matplotlib.pyplot as plt\n",
    "\n",
    "from moviepy.editor import *\n",
    "from moviepy.video.io.ffmpeg_tools import ffmpeg_extract_subclip, ffmpeg_resize"
   ]
  },
  {
   "cell_type": "code",
   "execution_count": 2,
   "id": "4d3b3921-d3da-42c2-8d58-b027342db0b3",
   "metadata": {},
   "outputs": [],
   "source": [
    "good_df = pd.read_csv(\"../questions.csv\")\n",
    "good_clip_set = set(good_df[\"clip_name\"])"
   ]
  },
  {
   "cell_type": "code",
   "execution_count": 14,
   "id": "f61074ff-c136-4e5c-ac10-2e8755ca71c4",
   "metadata": {},
   "outputs": [],
   "source": [
    "frames = 10\n",
    "vid_location = \"\"#specify the locations\n",
    "clip_dir = f\"{vid_location}/clips\"\n",
    "frames_dir = f\"{vid_location}/frames_{frames}\"\n",
    "if not os.path.exists(frames_dir):\n",
    "    os.mkdir(frames_dir)\n",
    "uploaded_videos = [vid for vid in os.listdir(frames_dir) if \"ipynb\" not in vid and len([frame for frame in os.listdir(f\"{frames_dir}/{vid}\") if \"ipynb\" not in frame]) == 10]\n",
    "batch_videos = [vid[:vid.find(\".\")] for vid in os.listdir(clip_dir) if \"ipynb\" not in vid]"
   ]
  },
  {
   "cell_type": "code",
   "execution_count": 15,
   "id": "5681b895-1a9a-453f-bc4a-6a1756f319d9",
   "metadata": {},
   "outputs": [
    {
     "name": "stdout",
     "output_type": "stream",
     "text": [
      "Done: 100.0% Time left: 0.0 seconds 7.448883306781682e-05 secondss\r"
     ]
    }
   ],
   "source": [
    "import multiprocessing\n",
    "from multiprocessing import Queue as multi_queue\n",
    "import time\n",
    "\n",
    "def task(the_queue):\n",
    "    while True:\n",
    "        if the_queue.empty():\n",
    "            break\n",
    "            \n",
    "        vid_name = the_queue.get()\n",
    "        vid_path = f\"{clip_dir}/{vid_name}.mp4\"\n",
    "        is_it_done = True\n",
    "        if vid_name in uploaded_videos:\n",
    "            continue\n",
    "        vid_folder = f\"{frames_dir}/{vid_name}\"        \n",
    "        if not os.path.exists(vid_folder):\n",
    "            os.mkdir(vid_folder)\n",
    "        uploaded_frames = os.listdir(vid_folder)\n",
    "        for i in range(frames):\n",
    "            if f\"{i}.jpg\" not in uploaded_frames:\n",
    "                is_it_done = False\n",
    "        \n",
    "        if is_it_done:\n",
    "            continue\n",
    "\n",
    "        try:\n",
    "            video = VideoFileClip(vid_path)\n",
    "        except:\n",
    "            continue\n",
    "        vid_frames = [f for f in video.iter_frames()]\n",
    "        frames_sec = np.linspace(0, len(vid_frames)-1, num=frames)\n",
    "        \n",
    "        for f_i in range(len(frames_sec)):\n",
    "            f = frames_sec[f_i]\n",
    "            frame = vid_frames[int(f)]\n",
    "            frame = cv2.cvtColor(frame, cv2.COLOR_BGR2RGB)\n",
    "            cv2.imwrite(f\"{vid_folder}/image_{f_i+1}.jpg\", frame)\n",
    "\n",
    "def progress_task(initially_done, the_queue, to_do):\n",
    "    global done_trigger\n",
    "    print(\"Done: -1%. Time left: -1 seconds\", flush=True, end='\\r')\n",
    "            \n",
    "    start = time.time()\n",
    "    while not the_queue.empty():\n",
    "        time.sleep(1)\n",
    "        done = to_do - the_queue.qsize()\n",
    "            \n",
    "        speed = done / (time.time() - start)\n",
    "        rest = to_do - done\n",
    "            \n",
    "        if speed == 0:\n",
    "            time_left = -1\n",
    "        else:\n",
    "            time_left = rest / speed\n",
    "        \n",
    "        print(f\"Done: {100 * (initially_done + done) / (initially_done+to_do)}% Time left: {time_left / 3600} seconds\", end='\\r', flush = True)\n",
    "\n",
    "the_queue = multi_queue()\n",
    "for video_name in batch_videos:\n",
    "    if video_name not in good_clip_set:\n",
    "        continue\n",
    "    if video_name not in uploaded_videos:\n",
    "        the_queue.put(video_name)\n",
    "        \n",
    "\n",
    "initially_done = len(uploaded_videos)\n",
    "to_do = len(batch_videos) - initially_done\n",
    "progress_process = multiprocessing.Process(target=progress_task, args=(initially_done, the_queue, to_do))\n",
    "\n",
    "procceses = []\n",
    "for i in range(20):\n",
    "    p1 = multiprocessing.Process(target=task, args=(the_queue,))\n",
    "    procceses.append(p1)\n",
    "    \n",
    "progress_process.start()\n",
    "for p in procceses:\n",
    "    p.start()\n",
    "    \n",
    "for p in procceses:\n",
    "    p.join()\n",
    "done_trigger = True\n",
    "progress_process.join()"
   ]
  },
  {
   "cell_type": "code",
   "execution_count": null,
   "id": "78e9713e-6b1e-4815-97f8-8eb65afb3e38",
   "metadata": {},
   "outputs": [],
   "source": []
  }
 ],
 "metadata": {
  "kernelspec": {
   "display_name": "Python 3",
   "language": "python",
   "name": "python3"
  },
  "language_info": {
   "codemirror_mode": {
    "name": "ipython",
    "version": 3
   },
   "file_extension": ".py",
   "mimetype": "text/x-python",
   "name": "python",
   "nbconvert_exporter": "python",
   "pygments_lexer": "ipython3",
   "version": "3.8.16"
  }
 },
 "nbformat": 4,
 "nbformat_minor": 5
}
