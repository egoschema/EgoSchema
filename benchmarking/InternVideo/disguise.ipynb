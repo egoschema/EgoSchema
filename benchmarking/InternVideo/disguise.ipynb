{
 "cells": [
  {
   "cell_type": "code",
   "execution_count": 2,
   "id": "b0f9da5d-7a18-4b41-a2a8-3585375c0eb3",
   "metadata": {},
   "outputs": [],
   "source": [
    "import json\n",
    "import os \n",
    "import random\n",
    "import pandas as pd\n",
    "\n",
    "EGOSCHEMA_FOLDER = \"../../../../..\"\n",
    "\n",
    "questions_f = open(f\"{EGOSCHEMA_FOLDER}/questions.json\")\n",
    "questions = json.load(questions_f)"
   ]
  },
  {
   "cell_type": "code",
   "execution_count": 3,
   "id": "a8867d28-308f-41a0-9732-7379757950fa",
   "metadata": {},
   "outputs": [],
   "source": [
    "random.seed(1998)\n",
    "table = []\n",
    "i = 0\n",
    "for row in questions:\n",
    "    new_row = [f\"mc{i}\", row[\"q_uid\"], f\"mcr{i}\"]\n",
    "    \n",
    "    q = row[\"question\"]\n",
    "    options = [row['option 0'], row['option 1'], row['option 2'], row['option 3'], row['option 4']]\n",
    "    q_options = [f\"{q} Is it '{answer.lower()}'\" for answer in options]\n",
    "    \n",
    "    new_row.append(0)\n",
    "    new_row.append(q_options)\n",
    "    table.append(new_row)\n",
    "    i += 1\n",
    "    \n",
    "df = pd.DataFrame(table, columns =['qid', 'clip_name', 'title', 'answer', 'options'])\n",
    "df.to_json(r'meta_data/msrvtt/msrvtt_mc_test.jsonl', orient ='records', lines = True)"
   ]
  },
  {
   "cell_type": "code",
   "execution_count": 4,
   "id": "0abeecce-3798-412c-b6cd-137c13618d5f",
   "metadata": {},
   "outputs": [],
   "source": [
    "msrvtt = pd.read_json(path_or_buf='meta_data/msrvtt/msrvtt_mc_test.jsonl', lines=True)\n",
    "clip_name_list = list(msrvtt[\"clip_name\"])\n",
    "clip_name_txt = \"\"\n",
    "for name in clip_name_list:\n",
    "    clip_name_txt += name\n",
    "    clip_name_txt += \"\\n\"\n",
    "text_file = open(\"meta_data/msrvtt/videos/test_list_new.txt\", \"w\")\n",
    "text_file.write(clip_name_txt)\n",
    "text_file.close()"
   ]
  },
  {
   "cell_type": "code",
   "execution_count": 5,
   "id": "beda326c-978d-4e80-9a4f-868f4f4817dc",
   "metadata": {},
   "outputs": [],
   "source": [
    "import shutil\n",
    "\n",
    "clip_name_set = set(msrvtt[\"clip_name\"])\n",
    "for clip_filename in os.listdir(f\"{EGOSCHEMA_FOLDER}/videos/\"):\n",
    "    clip_name = clip_filename[:clip_filename.find(\".\")]\n",
    "    if clip_name not in clip_name_set:\n",
    "        continue\n",
    "    shutil.copyfile(f\"{EGOSCHEMA_FOLDER}/videos/{clip_filename}\", f\"meta_data/msrvtt/videos/all/{clip_filename}\")"
   ]
  },
  {
   "cell_type": "code",
   "execution_count": 10,
   "id": "80c78d46-043c-48f3-be4a-ef42fa7c5a52",
   "metadata": {},
   "outputs": [
    {
     "data": {
      "text/plain": [
       "385"
      ]
     },
     "execution_count": 10,
     "metadata": {},
     "output_type": "execute_result"
    }
   ],
   "source": [
    "len(os.listdir(f\"{EGOSCHEMA_FOLDER}/videos/\"))"
   ]
  },
  {
   "cell_type": "code",
   "execution_count": null,
   "id": "1aee5d6c-ed8e-4daa-b70e-a0535671d4e6",
   "metadata": {},
   "outputs": [],
   "source": []
  }
 ],
 "metadata": {
  "kernelspec": {
   "display_name": "Python 3 (ipykernel)",
   "language": "python",
   "name": "python3"
  },
  "language_info": {
   "codemirror_mode": {
    "name": "ipython",
    "version": 3
   },
   "file_extension": ".py",
   "mimetype": "text/x-python",
   "name": "python",
   "nbconvert_exporter": "python",
   "pygments_lexer": "ipython3",
   "version": "3.7.16"
  }
 },
 "nbformat": 4,
 "nbformat_minor": 5
}
