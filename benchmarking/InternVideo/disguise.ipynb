{
 "cells": [
  {
   "cell_type": "code",
   "execution_count": 3,
   "id": "b0f9da5d-7a18-4b41-a2a8-3585375c0eb3",
   "metadata": {},
   "outputs": [],
   "source": [
    "import json\n",
    "import os \n",
    "import random\n",
    "import pandas as pd\n",
    "\n",
    "CLIP_LOCATION = \"\"#mp4 Clip location\n",
    "good_df = pd.read_csv(\"questions.csv\")"
   ]
  },
  {
   "cell_type": "code",
   "execution_count": 109,
   "id": "a8867d28-308f-41a0-9732-7379757950fa",
   "metadata": {},
   "outputs": [],
   "source": [
    "random.seed(1998)\n",
    "table = []\n",
    "for i, row in good_df.iterrows():\n",
    "    new_row = [f\"mc{i}\", row[\"clip_url\"], f\"mcr{i}\"]\n",
    "    qaw = row[2].split(\"\\n\")\n",
    "    q = qaw[0][qaw[0].find(\":\") + 2:]\n",
    "    \n",
    "    a = qaw[1][qaw[1].find(\":\") + 2:]\n",
    "    wa = qaw[2][qaw[2].find(\":\") + 2:]\n",
    "    wb = qaw[3][qaw[3].find(\":\") + 2:]\n",
    "    wc = qaw[4][qaw[4].find(\":\") + 2:]\n",
    "    wd = qaw[5][qaw[5].find(\":\") + 2:]\n",
    "\n",
    "    qa = f\"{q} Is it '{a.lower()}'\"\n",
    "    qwa = f\"{q} Is it '{wa.lower()}'\"\n",
    "    qwb = f\"{q} Is it '{wb.lower()}'\"\n",
    "    qwc= f\"{q} Is it '{wc.lower()}'\"\n",
    "    qwd = f\"{q} Is it '{wd.lower()}'\"\n",
    "\n",
    "    options = [qwa, qwb, qwc, qwd]\n",
    "    answer_choice = random.randint(0, 4)\n",
    "    options.insert(answer_choice, qa)\n",
    "    new_row.append(answer_choice)\n",
    "    new_row.append(options)\n",
    "    table.append(new_row)\n",
    "    \n",
    "df = pd.DataFrame(table, columns =['qid', 'clip_name', 'title', 'answer', 'options'])\n",
    "df.to_json(r'meta_data/msrvtt/msrvtt_mc_test.jsonl', orient ='records', lines = True)"
   ]
  },
  {
   "cell_type": "code",
   "execution_count": 88,
   "id": "0abeecce-3798-412c-b6cd-137c13618d5f",
   "metadata": {},
   "outputs": [],
   "source": [
    "msrvtt = pd.read_json(path_or_buf='meta_data/msrvtt/msrvtt_mc_test.jsonl', lines=True)\n",
    "clip_name_list = list(msrvtt[\"clip_name\"])\n",
    "clip_name_txt = \"\"\n",
    "for name in clip_name_list:\n",
    "    clip_name_txt += name\n",
    "    clip_name_txt += \"\\n\"\n",
    "text_file = open(\"meta_data/msrvtt/videos/test_list_new.txt\", \"w\")\n",
    "text_file.write(clip_name_txt)\n",
    "text_file.close()"
   ]
  },
  {
   "cell_type": "code",
   "execution_count": 101,
   "id": "beda326c-978d-4e80-9a4f-868f4f4817dc",
   "metadata": {},
   "outputs": [],
   "source": [
    "qa_data = CLIP_LOCATION# mp4 Clip location\n",
    "clip_name_set = set(msrvtt[\"clip_name\"])\n",
    "for clip_filename in os.listdir(f\"{qa_data}\"):\n",
    "    clip_name = clip_filename[:clip_filename.find(\".\")]\n",
    "    if clip_name not in clip_name_set:\n",
    "        continue\n",
    "    shutil.copyfile(f\"{qa_data}/{clip_filename}\", f\"meta_data/msrvtt/videos/all/{clip_filename}\")"
   ]
  }
 ],
 "metadata": {
  "kernelspec": {
   "display_name": "Python 3 (ipykernel)",
   "language": "python",
   "name": "python3"
  },
  "language_info": {
   "codemirror_mode": {
    "name": "ipython",
    "version": 3
   },
   "file_extension": ".py",
   "mimetype": "text/x-python",
   "name": "python",
   "nbconvert_exporter": "python",
   "pygments_lexer": "ipython3",
   "version": "3.11.3"
  }
 },
 "nbformat": 4,
 "nbformat_minor": 5
}
